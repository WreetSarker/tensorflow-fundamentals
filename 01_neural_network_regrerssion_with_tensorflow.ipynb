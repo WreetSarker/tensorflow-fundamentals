{
  "nbformat": 4,
  "nbformat_minor": 0,
  "metadata": {
    "colab": {
      "name": "01_neural_network_regrerssion_with_tensorflow.ipynb",
      "provenance": [],
      "collapsed_sections": []
    },
    "kernelspec": {
      "name": "python3",
      "display_name": "Python 3"
    },
    "language_info": {
      "name": "python"
    }
  },
  "cells": [
    {
      "cell_type": "markdown",
      "metadata": {
        "id": "fgWS9GCvjCah"
      },
      "source": [
        "# Introduction to Regression with neural networks in TensorFlow\n",
        "\n",
        "A simple way to define regression is: predicting a numerical variable based on some other combination of variables. In short, predicting a number"
      ]
    },
    {
      "cell_type": "code",
      "metadata": {
        "colab": {
          "base_uri": "https://localhost:8080/"
        },
        "id": "SqpzoeRHj5Ps",
        "outputId": "d6ac25b9-34bf-49bd-ccfc-f23427a1af75"
      },
      "source": [
        "# Import TensorFlow\n",
        "import tensorflow as tf\n",
        "print(tf.__version__)"
      ],
      "execution_count": 2,
      "outputs": [
        {
          "output_type": "stream",
          "text": [
            "2.5.0\n"
          ],
          "name": "stdout"
        }
      ]
    },
    {
      "cell_type": "markdown",
      "metadata": {
        "id": "dcGcJ3NckF-v"
      },
      "source": [
        "## Creating data to view and fit"
      ]
    },
    {
      "cell_type": "code",
      "metadata": {
        "colab": {
          "base_uri": "https://localhost:8080/",
          "height": 269
        },
        "id": "sI8WLDcbkf4K",
        "outputId": "011ca36c-70a1-4ef3-9e25-dc179418d96a"
      },
      "source": [
        "import numpy as np\n",
        "import matplotlib.pyplot as plt\n",
        "\n",
        "# Create features\n",
        "X = np.array([-7.0, -4.0, -1.0, 2.0, 5.0, 8.0, 11.0, 14.0])\n",
        "\n",
        "# Create label\n",
        "y = np.array([3.0, 6.0, 9.0, 12.0, 15.0, 18.0, 21.0, 24.0])\n",
        "\n",
        "#Visualize the data\n",
        "plt.scatter(X, y);"
      ],
      "execution_count": 3,
      "outputs": [
        {
          "output_type": "display_data",
          "data": {
            "image/png": "[encoded data removed]",
            "text/plain": [
              "<Figure size 432x288 with 1 Axes>"
            ]
          },
          "metadata": {
            "tags": [],
            "needs_background": "light"
          }
        }
      ]
    },
    {
      "cell_type": "code",
      "metadata": {
        "colab": {
          "base_uri": "https://localhost:8080/"
        },
        "id": "T5Av370unC3o",
        "outputId": "730557b9-9953-4881-fbc4-ab06b0c6c45b"
      },
      "source": [
        "y == X +10"
      ],
      "execution_count": 4,
      "outputs": [
        {
          "output_type": "execute_result",
          "data": {
            "text/plain": [
              "array([ True,  True,  True,  True,  True,  True,  True,  True])"
            ]
          },
          "metadata": {
            "tags": []
          },
          "execution_count": 4
        }
      ]
    },
    {
      "cell_type": "markdown",
      "metadata": {
        "id": "6hNE4iZVncbt"
      },
      "source": [
        "## Input and output shapes"
      ]
    },
    {
      "cell_type": "code",
      "metadata": {
        "colab": {
          "base_uri": "https://localhost:8080/"
        },
        "id": "B1C-hRI5nlRn",
        "outputId": "38150df6-fae7-4183-8657-cd372ef75405"
      },
      "source": [
        "# Create a demo data for our housing price problem\n",
        "house_info = tf.constant([\"bedroom\", \"bathroom\", \"garage\"])\n",
        "house_price = tf.constant([937000])\n",
        "\n",
        "house_info, house_price"
      ],
      "execution_count": 5,
      "outputs": [
        {
          "output_type": "execute_result",
          "data": {
            "text/plain": [
              "(<tf.Tensor: shape=(3,), dtype=string, numpy=array([b'bedroom', b'bathroom', b'garage'], dtype=object)>,\n",
              " <tf.Tensor: shape=(1,), dtype=int32, numpy=array([937000], dtype=int32)>)"
            ]
          },
          "metadata": {
            "tags": []
          },
          "execution_count": 5
        }
      ]
    },
    {
      "cell_type": "code",
      "metadata": {
        "colab": {
          "base_uri": "https://localhost:8080/"
        },
        "id": "cYllJvploVrs",
        "outputId": "d41b5f60-76e1-4373-d13e-5134bb30f2bc"
      },
      "source": [
        "input_shape = X.shape\n",
        "output_shape = y.shape\n",
        "\n",
        "input_shape, output_shape"
      ],
      "execution_count": 6,
      "outputs": [
        {
          "output_type": "execute_result",
          "data": {
            "text/plain": [
              "((8,), (8,))"
            ]
          },
          "metadata": {
            "tags": []
          },
          "execution_count": 6
        }
      ]
    },
    {
      "cell_type": "code",
      "metadata": {
        "colab": {
          "base_uri": "https://localhost:8080/"
        },
        "id": "_1IURc5PouxN",
        "outputId": "a53877ab-114f-4e52-f24b-8e0e649cc1b3"
      },
      "source": [
        "# Turn our numpy array into tensors\n",
        "X = tf.constant(X)\n",
        "y = tf.constant(y)\n",
        "\n",
        "X, y"
      ],
      "execution_count": 7,
      "outputs": [
        {
          "output_type": "execute_result",
          "data": {
            "text/plain": [
              "(<tf.Tensor: shape=(8,), dtype=float64, numpy=array([-7., -4., -1.,  2.,  5.,  8., 11., 14.])>,\n",
              " <tf.Tensor: shape=(8,), dtype=float64, numpy=array([ 3.,  6.,  9., 12., 15., 18., 21., 24.])>)"
            ]
          },
          "metadata": {
            "tags": []
          },
          "execution_count": 7
        }
      ]
    },
    {
      "cell_type": "code",
      "metadata": {
        "colab": {
          "base_uri": "https://localhost:8080/"
        },
        "id": "FobQQDRWqS84",
        "outputId": "40b6b89c-3c04-4b30-8ef3-ce45d607cffb"
      },
      "source": [
        "input_shape = X[0].shape\n",
        "output_shape = y[0].shape\n",
        "input_shape, output_shape"
      ],
      "execution_count": 8,
      "outputs": [
        {
          "output_type": "execute_result",
          "data": {
            "text/plain": [
              "(TensorShape([]), TensorShape([]))"
            ]
          },
          "metadata": {
            "tags": []
          },
          "execution_count": 8
        }
      ]
    },
    {
      "cell_type": "markdown",
      "metadata": {
        "id": "pYWpyBzywPHF"
      },
      "source": [
        "## Steps in modelling with TensorFlow\n",
        "\n",
        "1. **Creating a model** - define the input and output layers, as well as hidden layers of a deep learning model.\n",
        "2. **Compiling the model** - define loss function (in other words, the function which tells how wrong our model is) and optimizer (tells our model how to improve the pattern its learning) and evaluation metrics (what we can use to interpret the performance of our model).\n",
        "3. **Fitting a model** - letting the model to find patterns between X and y (feaures and labels)."
      ]
    },
    {
      "cell_type": "code",
      "metadata": {
        "colab": {
          "base_uri": "https://localhost:8080/"
        },
        "id": "WTIP9iHUweTU",
        "outputId": "0839c7ec-f509-4fc2-b8fd-2f9b1d243244"
      },
      "source": [
        "# Set the random seed\n",
        "tf.random.set_seed = 42\n",
        "\n",
        "# 1. Creating a model using the Sequential API\n",
        "model = tf.keras.Sequential([\n",
        "    tf.keras.layers.Dense(1)\n",
        "])\n",
        "\n",
        "# Compiling our model\n",
        "model.compile(loss=tf.keras.losses.mae,\n",
        "              optimizer = tf.keras.optimizers.SGD(),\n",
        "              metrics=[\"mae\"])\n",
        "\n",
        "# Fit the model\n",
        "model.fit(X, y, epochs=5)"
      ],
      "execution_count": 9,
      "outputs": [
        {
          "output_type": "stream",
          "text": [
            "Epoch 1/5\n",
            "1/1 [==============================] - 1s 561ms/step - loss: 21.5702 - mae: 21.5702\n",
            "Epoch 2/5\n",
            "1/1 [==============================] - 0s 7ms/step - loss: 21.1771 - mae: 21.1771\n",
            "Epoch 3/5\n",
            "1/1 [==============================] - 0s 6ms/step - loss: 20.7840 - mae: 20.7840\n",
            "Epoch 4/5\n",
            "1/1 [==============================] - 0s 7ms/step - loss: 20.4234 - mae: 20.4234\n",
            "Epoch 5/5\n",
            "1/1 [==============================] - 0s 6ms/step - loss: 20.1421 - mae: 20.1421\n"
          ],
          "name": "stdout"
        },
        {
          "output_type": "execute_result",
          "data": {
            "text/plain": [
              "<tensorflow.python.keras.callbacks.History at 0x7fdc81658610>"
            ]
          },
          "metadata": {
            "tags": []
          },
          "execution_count": 9
        }
      ]
    },
    {
      "cell_type": "code",
      "metadata": {
        "colab": {
          "base_uri": "https://localhost:8080/"
        },
        "id": "C6iTzYkT5bBh",
        "outputId": "3e6eed04-4a31-42cb-b44f-55a9835eccab"
      },
      "source": [
        "#  Try and make a prediction with our trained model\n",
        "y_pred = model.predict([17.0])\n",
        "y_pred"
      ],
      "execution_count": 10,
      "outputs": [
        {
          "output_type": "execute_result",
          "data": {
            "text/plain": [
              "array([[-23.068537]], dtype=float32)"
            ]
          },
          "metadata": {
            "tags": []
          },
          "execution_count": 10
        }
      ]
    },
    {
      "cell_type": "markdown",
      "metadata": {
        "id": "NI4KrTUZ7SIl"
      },
      "source": [
        "## Improving our model\n",
        "\n",
        "We can improve a model by altering the steps we took in creating the model.\n",
        "\n",
        "1. **Creating model** - Here we can add more layers, increase the number of hidden units(neurons), also change the activation function in each layer.\n",
        "2. **Compiling model** - Here we might change the optimizer function or change the learning rate of the optimization function.\n",
        "3. **Fitting model** - Here we might fit the model with more epochs or give the model more data "
      ]
    },
    {
      "cell_type": "code",
      "metadata": {
        "colab": {
          "base_uri": "https://localhost:8080/"
        },
        "id": "aYNhSSCABnC_",
        "outputId": "8eca592d-0e0d-4e50-dc24-7ef4f5de55ea"
      },
      "source": [
        "# Let's rebuild our model\n",
        "\n",
        "# 1. Create the model\n",
        "model = tf.keras.Sequential([\n",
        "        tf.keras.layers.Dense(1)\n",
        "])\n",
        "\n",
        "# 2. Compile the model\n",
        "model.compile(loss=tf.keras.losses.mae,\n",
        "              optimizer=tf.keras.optimizers.SGD(),\n",
        "              metrics=[\"mae\"])\n",
        "\n",
        "# 3. Fit the model\n",
        "model.fit(X, y, epochs=100)"
      ],
      "execution_count": 11,
      "outputs": [
        {
          "output_type": "stream",
          "text": [
            "Epoch 1/100\n",
            "1/1 [==============================] - 0s 257ms/step - loss: 15.6074 - mae: 15.6074\n",
            "Epoch 2/100\n",
            "1/1 [==============================] - 0s 6ms/step - loss: 15.3262 - mae: 15.3262\n",
            "Epoch 3/100\n",
            "1/1 [==============================] - 0s 4ms/step - loss: 15.0449 - mae: 15.0449\n",
            "Epoch 4/100\n",
            "1/1 [==============================] - 0s 16ms/step - loss: 14.8312 - mae: 14.8312\n",
            "Epoch 5/100\n",
            "1/1 [==============================] - 0s 5ms/step - loss: 14.6987 - mae: 14.6987\n",
            "Epoch 6/100\n",
            "1/1 [==============================] - 0s 5ms/step - loss: 14.5662 - mae: 14.5662\n",
            "Epoch 7/100\n",
            "1/1 [==============================] - 0s 9ms/step - loss: 14.4337 - mae: 14.4337\n",
            "Epoch 8/100\n",
            "1/1 [==============================] - 0s 8ms/step - loss: 14.3012 - mae: 14.3012\n",
            "Epoch 9/100\n",
            "1/1 [==============================] - 0s 5ms/step - loss: 14.1687 - mae: 14.1687\n",
            "Epoch 10/100\n",
            "1/1 [==============================] - 0s 9ms/step - loss: 14.0362 - mae: 14.0362\n",
            "Epoch 11/100\n",
            "1/1 [==============================] - 0s 7ms/step - loss: 13.9037 - mae: 13.9037\n",
            "Epoch 12/100\n",
            "1/1 [==============================] - 0s 8ms/step - loss: 13.7712 - mae: 13.7712\n",
            "Epoch 13/100\n",
            "1/1 [==============================] - 0s 6ms/step - loss: 13.6387 - mae: 13.6387\n",
            "Epoch 14/100\n",
            "1/1 [==============================] - 0s 7ms/step - loss: 13.5062 - mae: 13.5062\n",
            "Epoch 15/100\n",
            "1/1 [==============================] - 0s 5ms/step - loss: 13.3737 - mae: 13.3737\n",
            "Epoch 16/100\n",
            "1/1 [==============================] - 0s 8ms/step - loss: 13.2412 - mae: 13.2412\n",
            "Epoch 17/100\n",
            "1/1 [==============================] - 0s 8ms/step - loss: 13.1087 - mae: 13.1087\n",
            "Epoch 18/100\n",
            "1/1 [==============================] - 0s 9ms/step - loss: 12.9762 - mae: 12.9762\n",
            "Epoch 19/100\n",
            "1/1 [==============================] - 0s 7ms/step - loss: 12.8437 - mae: 12.8437\n",
            "Epoch 20/100\n",
            "1/1 [==============================] - 0s 8ms/step - loss: 12.7112 - mae: 12.7112\n",
            "Epoch 21/100\n",
            "1/1 [==============================] - 0s 6ms/step - loss: 12.5787 - mae: 12.5787\n",
            "Epoch 22/100\n",
            "1/1 [==============================] - 0s 6ms/step - loss: 12.4462 - mae: 12.4462\n",
            "Epoch 23/100\n",
            "1/1 [==============================] - 0s 8ms/step - loss: 12.3137 - mae: 12.3137\n",
            "Epoch 24/100\n",
            "1/1 [==============================] - 0s 7ms/step - loss: 12.1812 - mae: 12.1812\n",
            "Epoch 25/100\n",
            "1/1 [==============================] - 0s 6ms/step - loss: 12.0487 - mae: 12.0487\n",
            "Epoch 26/100\n",
            "1/1 [==============================] - 0s 5ms/step - loss: 11.9162 - mae: 11.9162\n",
            "Epoch 27/100\n",
            "1/1 [==============================] - 0s 5ms/step - loss: 11.7837 - mae: 11.7837\n",
            "Epoch 28/100\n",
            "1/1 [==============================] - 0s 6ms/step - loss: 11.6512 - mae: 11.6512\n",
            "Epoch 29/100\n",
            "1/1 [==============================] - 0s 6ms/step - loss: 11.5187 - mae: 11.5187\n",
            "Epoch 30/100\n",
            "1/1 [==============================] - 0s 6ms/step - loss: 11.3862 - mae: 11.3862\n",
            "Epoch 31/100\n",
            "1/1 [==============================] - 0s 8ms/step - loss: 11.2537 - mae: 11.2537\n",
            "Epoch 32/100\n",
            "1/1 [==============================] - 0s 5ms/step - loss: 11.1212 - mae: 11.1212\n",
            "Epoch 33/100\n",
            "1/1 [==============================] - 0s 7ms/step - loss: 10.9887 - mae: 10.9887\n",
            "Epoch 34/100\n",
            "1/1 [==============================] - 0s 7ms/step - loss: 10.8562 - mae: 10.8562\n",
            "Epoch 35/100\n",
            "1/1 [==============================] - 0s 6ms/step - loss: 10.7237 - mae: 10.7237\n",
            "Epoch 36/100\n",
            "1/1 [==============================] - 0s 8ms/step - loss: 10.5912 - mae: 10.5912\n",
            "Epoch 37/100\n",
            "1/1 [==============================] - 0s 10ms/step - loss: 10.4587 - mae: 10.4587\n",
            "Epoch 38/100\n",
            "1/1 [==============================] - 0s 5ms/step - loss: 10.3262 - mae: 10.3262\n",
            "Epoch 39/100\n",
            "1/1 [==============================] - 0s 8ms/step - loss: 10.1937 - mae: 10.1937\n",
            "Epoch 40/100\n",
            "1/1 [==============================] - 0s 6ms/step - loss: 10.0612 - mae: 10.0612\n",
            "Epoch 41/100\n",
            "1/1 [==============================] - 0s 8ms/step - loss: 9.9287 - mae: 9.9287\n",
            "Epoch 42/100\n",
            "1/1 [==============================] - 0s 4ms/step - loss: 9.7962 - mae: 9.7962\n",
            "Epoch 43/100\n",
            "1/1 [==============================] - 0s 4ms/step - loss: 9.6637 - mae: 9.6637\n",
            "Epoch 44/100\n",
            "1/1 [==============================] - 0s 6ms/step - loss: 9.5312 - mae: 9.5312\n",
            "Epoch 45/100\n",
            "1/1 [==============================] - 0s 8ms/step - loss: 9.3987 - mae: 9.3987\n",
            "Epoch 46/100\n",
            "1/1 [==============================] - 0s 5ms/step - loss: 9.2662 - mae: 9.2662\n",
            "Epoch 47/100\n",
            "1/1 [==============================] - 0s 7ms/step - loss: 9.1337 - mae: 9.1337\n",
            "Epoch 48/100\n",
            "1/1 [==============================] - 0s 6ms/step - loss: 9.0012 - mae: 9.0012\n",
            "Epoch 49/100\n",
            "1/1 [==============================] - 0s 8ms/step - loss: 8.8687 - mae: 8.8687\n",
            "Epoch 50/100\n",
            "1/1 [==============================] - 0s 4ms/step - loss: 8.7362 - mae: 8.7362\n",
            "Epoch 51/100\n",
            "1/1 [==============================] - 0s 6ms/step - loss: 8.6037 - mae: 8.6037\n",
            "Epoch 52/100\n",
            "1/1 [==============================] - 0s 12ms/step - loss: 8.4712 - mae: 8.4712\n",
            "Epoch 53/100\n",
            "1/1 [==============================] - 0s 5ms/step - loss: 8.3387 - mae: 8.3387\n",
            "Epoch 54/100\n",
            "1/1 [==============================] - 0s 5ms/step - loss: 8.2062 - mae: 8.2062\n",
            "Epoch 55/100\n",
            "1/1 [==============================] - 0s 13ms/step - loss: 8.0737 - mae: 8.0737\n",
            "Epoch 56/100\n",
            "1/1 [==============================] - 0s 6ms/step - loss: 7.9412 - mae: 7.9412\n",
            "Epoch 57/100\n",
            "1/1 [==============================] - 0s 10ms/step - loss: 7.8087 - mae: 7.8087\n",
            "Epoch 58/100\n",
            "1/1 [==============================] - 0s 4ms/step - loss: 7.6762 - mae: 7.6762\n",
            "Epoch 59/100\n",
            "1/1 [==============================] - 0s 6ms/step - loss: 7.5437 - mae: 7.5437\n",
            "Epoch 60/100\n",
            "1/1 [==============================] - 0s 5ms/step - loss: 7.4112 - mae: 7.4112\n",
            "Epoch 61/100\n",
            "1/1 [==============================] - 0s 5ms/step - loss: 7.2787 - mae: 7.2787\n",
            "Epoch 62/100\n",
            "1/1 [==============================] - 0s 6ms/step - loss: 7.1462 - mae: 7.1462\n",
            "Epoch 63/100\n",
            "1/1 [==============================] - 0s 7ms/step - loss: 7.0406 - mae: 7.0406\n",
            "Epoch 64/100\n",
            "1/1 [==============================] - 0s 6ms/step - loss: 7.0350 - mae: 7.0350\n",
            "Epoch 65/100\n",
            "1/1 [==============================] - 0s 6ms/step - loss: 7.0294 - mae: 7.0294\n",
            "Epoch 66/100\n",
            "1/1 [==============================] - 0s 7ms/step - loss: 7.0238 - mae: 7.0238\n",
            "Epoch 67/100\n",
            "1/1 [==============================] - 0s 5ms/step - loss: 7.0181 - mae: 7.0181\n",
            "Epoch 68/100\n",
            "1/1 [==============================] - 0s 7ms/step - loss: 7.0125 - mae: 7.0125\n",
            "Epoch 69/100\n",
            "1/1 [==============================] - 0s 5ms/step - loss: 7.0069 - mae: 7.0069\n",
            "Epoch 70/100\n",
            "1/1 [==============================] - 0s 7ms/step - loss: 7.0012 - mae: 7.0012\n",
            "Epoch 71/100\n",
            "1/1 [==============================] - 0s 5ms/step - loss: 6.9956 - mae: 6.9956\n",
            "Epoch 72/100\n",
            "1/1 [==============================] - 0s 6ms/step - loss: 6.9900 - mae: 6.9900\n",
            "Epoch 73/100\n",
            "1/1 [==============================] - 0s 6ms/step - loss: 6.9844 - mae: 6.9844\n",
            "Epoch 74/100\n",
            "1/1 [==============================] - 0s 6ms/step - loss: 6.9788 - mae: 6.9788\n",
            "Epoch 75/100\n",
            "1/1 [==============================] - 0s 4ms/step - loss: 6.9731 - mae: 6.9731\n",
            "Epoch 76/100\n",
            "1/1 [==============================] - 0s 6ms/step - loss: 6.9675 - mae: 6.9675\n",
            "Epoch 77/100\n",
            "1/1 [==============================] - 0s 16ms/step - loss: 6.9619 - mae: 6.9619\n",
            "Epoch 78/100\n",
            "1/1 [==============================] - 0s 11ms/step - loss: 6.9563 - mae: 6.9563\n",
            "Epoch 79/100\n",
            "1/1 [==============================] - 0s 4ms/step - loss: 6.9506 - mae: 6.9506\n",
            "Epoch 80/100\n",
            "1/1 [==============================] - 0s 5ms/step - loss: 6.9450 - mae: 6.9450\n",
            "Epoch 81/100\n",
            "1/1 [==============================] - 0s 6ms/step - loss: 6.9394 - mae: 6.9394\n",
            "Epoch 82/100\n",
            "1/1 [==============================] - 0s 6ms/step - loss: 6.9338 - mae: 6.9338\n",
            "Epoch 83/100\n",
            "1/1 [==============================] - 0s 6ms/step - loss: 6.9281 - mae: 6.9281\n",
            "Epoch 84/100\n",
            "1/1 [==============================] - 0s 5ms/step - loss: 6.9225 - mae: 6.9225\n",
            "Epoch 85/100\n",
            "1/1 [==============================] - 0s 6ms/step - loss: 6.9169 - mae: 6.9169\n",
            "Epoch 86/100\n",
            "1/1 [==============================] - 0s 5ms/step - loss: 6.9113 - mae: 6.9113\n",
            "Epoch 87/100\n",
            "1/1 [==============================] - 0s 6ms/step - loss: 6.9056 - mae: 6.9056\n",
            "Epoch 88/100\n",
            "1/1 [==============================] - 0s 7ms/step - loss: 6.9000 - mae: 6.9000\n",
            "Epoch 89/100\n",
            "1/1 [==============================] - 0s 5ms/step - loss: 6.8944 - mae: 6.8944\n",
            "Epoch 90/100\n",
            "1/1 [==============================] - 0s 4ms/step - loss: 6.8888 - mae: 6.8888\n",
            "Epoch 91/100\n",
            "1/1 [==============================] - 0s 6ms/step - loss: 6.8831 - mae: 6.8831\n",
            "Epoch 92/100\n",
            "1/1 [==============================] - 0s 8ms/step - loss: 6.8775 - mae: 6.8775\n",
            "Epoch 93/100\n",
            "1/1 [==============================] - 0s 6ms/step - loss: 6.8719 - mae: 6.8719\n",
            "Epoch 94/100\n",
            "1/1 [==============================] - 0s 7ms/step - loss: 6.8663 - mae: 6.8663\n",
            "Epoch 95/100\n",
            "1/1 [==============================] - 0s 4ms/step - loss: 6.8606 - mae: 6.8606\n",
            "Epoch 96/100\n",
            "1/1 [==============================] - 0s 9ms/step - loss: 6.8550 - mae: 6.8550\n",
            "Epoch 97/100\n",
            "1/1 [==============================] - 0s 6ms/step - loss: 6.8494 - mae: 6.8494\n",
            "Epoch 98/100\n",
            "1/1 [==============================] - 0s 5ms/step - loss: 6.8438 - mae: 6.8438\n",
            "Epoch 99/100\n",
            "1/1 [==============================] - 0s 4ms/step - loss: 6.8381 - mae: 6.8381\n",
            "Epoch 100/100\n",
            "1/1 [==============================] - 0s 13ms/step - loss: 6.8325 - mae: 6.8325\n"
          ],
          "name": "stdout"
        },
        {
          "output_type": "execute_result",
          "data": {
            "text/plain": [
              "<tensorflow.python.keras.callbacks.History at 0x7fdc7d956d10>"
            ]
          },
          "metadata": {
            "tags": []
          },
          "execution_count": 11
        }
      ]
    },
    {
      "cell_type": "code",
      "metadata": {
        "colab": {
          "base_uri": "https://localhost:8080/"
        },
        "id": "vZJ47spuKLeQ",
        "outputId": "ec25f322-7112-47a2-af25-905c7afa20e5"
      },
      "source": [
        "# Let's see the prediction of new model\n",
        "model.predict([17.0])"
      ],
      "execution_count": 12,
      "outputs": [
        {
          "output_type": "execute_result",
          "data": {
            "text/plain": [
              "array([[29.427305]], dtype=float32)"
            ]
          },
          "metadata": {
            "tags": []
          },
          "execution_count": 12
        }
      ]
    },
    {
      "cell_type": "code",
      "metadata": {
        "colab": {
          "base_uri": "https://localhost:8080/"
        },
        "id": "2CX4-Vv0LhyO",
        "outputId": "8eb1b38c-f9ac-49f3-e021-5e44de35156f"
      },
      "source": [
        "# Let's try to change one more parameter\n",
        "\n",
        "# 1. Create a model\n",
        "model = tf.keras.Sequential([\n",
        "        tf.keras.layers.Dense(50, activation=None),\n",
        "        tf.keras.layers.Dense(1)\n",
        "])\n",
        "\n",
        "# 2. Compile the model\n",
        "model.compile(loss=tf.keras.losses.mae,\n",
        "              optimizer=tf.keras.optimizers.Adam(lr=.01),\n",
        "              metrics=[\"mae\"])\n",
        "\n",
        "# 3. Fit the model\n",
        "model.fit(X, y, epochs=100)"
      ],
      "execution_count": 13,
      "outputs": [
        {
          "output_type": "stream",
          "text": [
            "/usr/local/lib/python3.7/dist-packages/tensorflow/python/keras/optimizer_v2/optimizer_v2.py:375: UserWarning: The `lr` argument is deprecated, use `learning_rate` instead.\n",
            "  \"The `lr` argument is deprecated, use `learning_rate` instead.\")\n"
          ],
          "name": "stderr"
        },
        {
          "output_type": "stream",
          "text": [
            "Epoch 1/100\n",
            "1/1 [==============================] - 0s 400ms/step - loss: 12.3635 - mae: 12.3635\n",
            "Epoch 2/100\n",
            "1/1 [==============================] - 0s 7ms/step - loss: 11.6681 - mae: 11.6681\n",
            "Epoch 3/100\n",
            "1/1 [==============================] - 0s 6ms/step - loss: 10.9663 - mae: 10.9663\n",
            "Epoch 4/100\n",
            "1/1 [==============================] - 0s 5ms/step - loss: 10.2560 - mae: 10.2560\n",
            "Epoch 5/100\n",
            "1/1 [==============================] - 0s 7ms/step - loss: 9.5344 - mae: 9.5344\n",
            "Epoch 6/100\n",
            "1/1 [==============================] - 0s 7ms/step - loss: 8.7981 - mae: 8.7981\n",
            "Epoch 7/100\n",
            "1/1 [==============================] - 0s 7ms/step - loss: 8.0438 - mae: 8.0438\n",
            "Epoch 8/100\n",
            "1/1 [==============================] - 0s 6ms/step - loss: 7.2685 - mae: 7.2685\n",
            "Epoch 9/100\n",
            "1/1 [==============================] - 0s 6ms/step - loss: 6.8251 - mae: 6.8251\n",
            "Epoch 10/100\n",
            "1/1 [==============================] - 0s 5ms/step - loss: 7.0337 - mae: 7.0337\n",
            "Epoch 11/100\n",
            "1/1 [==============================] - 0s 5ms/step - loss: 7.3074 - mae: 7.3074\n",
            "Epoch 12/100\n",
            "1/1 [==============================] - 0s 4ms/step - loss: 7.5297 - mae: 7.5297\n",
            "Epoch 13/100\n",
            "1/1 [==============================] - 0s 6ms/step - loss: 7.5812 - mae: 7.5812\n",
            "Epoch 14/100\n",
            "1/1 [==============================] - 0s 6ms/step - loss: 7.4299 - mae: 7.4299\n",
            "Epoch 15/100\n",
            "1/1 [==============================] - 0s 4ms/step - loss: 7.1315 - mae: 7.1315\n",
            "Epoch 16/100\n",
            "1/1 [==============================] - 0s 6ms/step - loss: 6.8989 - mae: 6.8989\n",
            "Epoch 17/100\n",
            "1/1 [==============================] - 0s 4ms/step - loss: 6.6418 - mae: 6.6418\n",
            "Epoch 18/100\n",
            "1/1 [==============================] - 0s 6ms/step - loss: 6.3658 - mae: 6.3658\n",
            "Epoch 19/100\n",
            "1/1 [==============================] - 0s 7ms/step - loss: 6.1311 - mae: 6.1311\n",
            "Epoch 20/100\n",
            "1/1 [==============================] - 0s 4ms/step - loss: 6.0787 - mae: 6.0787\n",
            "Epoch 21/100\n",
            "1/1 [==============================] - 0s 6ms/step - loss: 6.0381 - mae: 6.0381\n",
            "Epoch 22/100\n",
            "1/1 [==============================] - 0s 6ms/step - loss: 6.0884 - mae: 6.0884\n",
            "Epoch 23/100\n",
            "1/1 [==============================] - 0s 6ms/step - loss: 6.0321 - mae: 6.0321\n",
            "Epoch 24/100\n",
            "1/1 [==============================] - 0s 6ms/step - loss: 5.8827 - mae: 5.8827\n",
            "Epoch 25/100\n",
            "1/1 [==============================] - 0s 6ms/step - loss: 5.6867 - mae: 5.6867\n",
            "Epoch 26/100\n",
            "1/1 [==============================] - 0s 6ms/step - loss: 5.5847 - mae: 5.5847\n",
            "Epoch 27/100\n",
            "1/1 [==============================] - 0s 6ms/step - loss: 5.4796 - mae: 5.4796\n",
            "Epoch 28/100\n",
            "1/1 [==============================] - 0s 5ms/step - loss: 5.3710 - mae: 5.3710\n",
            "Epoch 29/100\n",
            "1/1 [==============================] - 0s 6ms/step - loss: 5.3176 - mae: 5.3176\n",
            "Epoch 30/100\n",
            "1/1 [==============================] - 0s 5ms/step - loss: 5.2660 - mae: 5.2660\n",
            "Epoch 31/100\n",
            "1/1 [==============================] - 0s 7ms/step - loss: 5.1705 - mae: 5.1705\n",
            "Epoch 32/100\n",
            "1/1 [==============================] - 0s 5ms/step - loss: 5.0351 - mae: 5.0351\n",
            "Epoch 33/100\n",
            "1/1 [==============================] - 0s 7ms/step - loss: 4.8634 - mae: 4.8634\n",
            "Epoch 34/100\n",
            "1/1 [==============================] - 0s 4ms/step - loss: 4.7609 - mae: 4.7609\n",
            "Epoch 35/100\n",
            "1/1 [==============================] - 0s 6ms/step - loss: 4.6612 - mae: 4.6612\n",
            "Epoch 36/100\n",
            "1/1 [==============================] - 0s 6ms/step - loss: 4.5540 - mae: 4.5540\n",
            "Epoch 37/100\n",
            "1/1 [==============================] - 0s 4ms/step - loss: 4.4575 - mae: 4.4575\n",
            "Epoch 38/100\n",
            "1/1 [==============================] - 0s 7ms/step - loss: 4.3066 - mae: 4.3066\n",
            "Epoch 39/100\n",
            "1/1 [==============================] - 0s 5ms/step - loss: 4.1668 - mae: 4.1668\n",
            "Epoch 40/100\n",
            "1/1 [==============================] - 0s 8ms/step - loss: 4.0196 - mae: 4.0196\n",
            "Epoch 41/100\n",
            "1/1 [==============================] - 0s 6ms/step - loss: 3.8649 - mae: 3.8649\n",
            "Epoch 42/100\n",
            "1/1 [==============================] - 0s 11ms/step - loss: 3.7022 - mae: 3.7022\n",
            "Epoch 43/100\n",
            "1/1 [==============================] - 0s 6ms/step - loss: 3.5313 - mae: 3.5313\n",
            "Epoch 44/100\n",
            "1/1 [==============================] - 0s 10ms/step - loss: 3.3577 - mae: 3.3577\n",
            "Epoch 45/100\n",
            "1/1 [==============================] - 0s 5ms/step - loss: 3.1879 - mae: 3.1879\n",
            "Epoch 46/100\n",
            "1/1 [==============================] - 0s 5ms/step - loss: 3.0029 - mae: 3.0029\n",
            "Epoch 47/100\n",
            "1/1 [==============================] - 0s 5ms/step - loss: 2.8189 - mae: 2.8189\n",
            "Epoch 48/100\n",
            "1/1 [==============================] - 0s 8ms/step - loss: 2.6237 - mae: 2.6237\n",
            "Epoch 49/100\n",
            "1/1 [==============================] - 0s 7ms/step - loss: 2.4174 - mae: 2.4174\n",
            "Epoch 50/100\n",
            "1/1 [==============================] - 0s 5ms/step - loss: 2.1997 - mae: 2.1997\n",
            "Epoch 51/100\n",
            "1/1 [==============================] - 0s 7ms/step - loss: 1.9705 - mae: 1.9705\n",
            "Epoch 52/100\n",
            "1/1 [==============================] - 0s 5ms/step - loss: 1.7294 - mae: 1.7294\n",
            "Epoch 53/100\n",
            "1/1 [==============================] - 0s 6ms/step - loss: 1.4764 - mae: 1.4764\n",
            "Epoch 54/100\n",
            "1/1 [==============================] - 0s 4ms/step - loss: 1.2151 - mae: 1.2151\n",
            "Epoch 55/100\n",
            "1/1 [==============================] - 0s 7ms/step - loss: 0.9477 - mae: 0.9477\n",
            "Epoch 56/100\n",
            "1/1 [==============================] - 0s 6ms/step - loss: 0.6977 - mae: 0.6977\n",
            "Epoch 57/100\n",
            "1/1 [==============================] - 0s 6ms/step - loss: 0.4264 - mae: 0.4264\n",
            "Epoch 58/100\n",
            "1/1 [==============================] - 0s 8ms/step - loss: 0.0868 - mae: 0.0868\n",
            "Epoch 59/100\n",
            "1/1 [==============================] - 0s 4ms/step - loss: 0.4156 - mae: 0.4156\n",
            "Epoch 60/100\n",
            "1/1 [==============================] - 0s 6ms/step - loss: 0.4990 - mae: 0.4990\n",
            "Epoch 61/100\n",
            "1/1 [==============================] - 0s 6ms/step - loss: 0.8203 - mae: 0.8203\n",
            "Epoch 62/100\n",
            "1/1 [==============================] - 0s 6ms/step - loss: 0.9531 - mae: 0.9531\n",
            "Epoch 63/100\n",
            "1/1 [==============================] - 0s 6ms/step - loss: 0.8774 - mae: 0.8774\n",
            "Epoch 64/100\n",
            "1/1 [==============================] - 0s 7ms/step - loss: 0.9820 - mae: 0.9820\n",
            "Epoch 65/100\n",
            "1/1 [==============================] - 0s 6ms/step - loss: 1.0229 - mae: 1.0229\n",
            "Epoch 66/100\n",
            "1/1 [==============================] - 0s 6ms/step - loss: 0.8587 - mae: 0.8587\n",
            "Epoch 67/100\n",
            "1/1 [==============================] - 0s 6ms/step - loss: 0.8717 - mae: 0.8717\n",
            "Epoch 68/100\n",
            "1/1 [==============================] - 0s 7ms/step - loss: 0.8001 - mae: 0.8001\n",
            "Epoch 69/100\n",
            "1/1 [==============================] - 0s 6ms/step - loss: 0.5278 - mae: 0.5278\n",
            "Epoch 70/100\n",
            "1/1 [==============================] - 0s 6ms/step - loss: 0.5929 - mae: 0.5929\n",
            "Epoch 71/100\n",
            "1/1 [==============================] - 0s 7ms/step - loss: 0.5291 - mae: 0.5291\n",
            "Epoch 72/100\n",
            "1/1 [==============================] - 0s 26ms/step - loss: 0.1582 - mae: 0.1582\n",
            "Epoch 73/100\n",
            "1/1 [==============================] - 0s 13ms/step - loss: 0.5127 - mae: 0.5127\n",
            "Epoch 74/100\n",
            "1/1 [==============================] - 0s 5ms/step - loss: 0.7366 - mae: 0.7366\n",
            "Epoch 75/100\n",
            "1/1 [==============================] - 0s 8ms/step - loss: 0.6627 - mae: 0.6627\n",
            "Epoch 76/100\n",
            "1/1 [==============================] - 0s 26ms/step - loss: 0.4188 - mae: 0.4188\n",
            "Epoch 77/100\n",
            "1/1 [==============================] - 0s 4ms/step - loss: 0.6900 - mae: 0.6900\n",
            "Epoch 78/100\n",
            "1/1 [==============================] - 0s 4ms/step - loss: 0.8357 - mae: 0.8357\n",
            "Epoch 79/100\n",
            "1/1 [==============================] - 0s 5ms/step - loss: 0.8087 - mae: 0.8087\n",
            "Epoch 80/100\n",
            "1/1 [==============================] - 0s 5ms/step - loss: 0.6280 - mae: 0.6280\n",
            "Epoch 81/100\n",
            "1/1 [==============================] - 0s 7ms/step - loss: 0.3078 - mae: 0.3078\n",
            "Epoch 82/100\n",
            "1/1 [==============================] - 0s 5ms/step - loss: 0.5312 - mae: 0.5312\n",
            "Epoch 83/100\n",
            "1/1 [==============================] - 0s 4ms/step - loss: 0.6668 - mae: 0.6668\n",
            "Epoch 84/100\n",
            "1/1 [==============================] - 0s 7ms/step - loss: 0.4799 - mae: 0.4799\n",
            "Epoch 85/100\n",
            "1/1 [==============================] - 0s 5ms/step - loss: 0.1433 - mae: 0.1433\n",
            "Epoch 86/100\n",
            "1/1 [==============================] - 0s 6ms/step - loss: 0.6336 - mae: 0.6336\n",
            "Epoch 87/100\n",
            "1/1 [==============================] - 0s 6ms/step - loss: 0.8773 - mae: 0.8773\n",
            "Epoch 88/100\n",
            "1/1 [==============================] - 0s 4ms/step - loss: 0.7935 - mae: 0.7935\n",
            "Epoch 89/100\n",
            "1/1 [==============================] - 0s 6ms/step - loss: 0.4541 - mae: 0.4541\n",
            "Epoch 90/100\n",
            "1/1 [==============================] - 0s 8ms/step - loss: 0.3729 - mae: 0.3729\n",
            "Epoch 91/100\n",
            "1/1 [==============================] - 0s 6ms/step - loss: 0.5931 - mae: 0.5931\n",
            "Epoch 92/100\n",
            "1/1 [==============================] - 0s 8ms/step - loss: 0.6333 - mae: 0.6333\n",
            "Epoch 93/100\n",
            "1/1 [==============================] - 0s 8ms/step - loss: 0.3962 - mae: 0.3962\n",
            "Epoch 94/100\n",
            "1/1 [==============================] - 0s 7ms/step - loss: 0.0906 - mae: 0.0906\n",
            "Epoch 95/100\n",
            "1/1 [==============================] - 0s 6ms/step - loss: 0.2437 - mae: 0.2437\n",
            "Epoch 96/100\n",
            "1/1 [==============================] - 0s 9ms/step - loss: 0.1645 - mae: 0.1645\n",
            "Epoch 97/100\n",
            "1/1 [==============================] - 0s 6ms/step - loss: 0.2005 - mae: 0.2005\n",
            "Epoch 98/100\n",
            "1/1 [==============================] - 0s 8ms/step - loss: 0.2122 - mae: 0.2122\n",
            "Epoch 99/100\n",
            "1/1 [==============================] - 0s 5ms/step - loss: 0.0941 - mae: 0.0941\n",
            "Epoch 100/100\n",
            "1/1 [==============================] - 0s 7ms/step - loss: 0.0654 - mae: 0.0654\n"
          ],
          "name": "stdout"
        },
        {
          "output_type": "execute_result",
          "data": {
            "text/plain": [
              "<tensorflow.python.keras.callbacks.History at 0x7fdc7bf88850>"
            ]
          },
          "metadata": {
            "tags": []
          },
          "execution_count": 13
        }
      ]
    },
    {
      "cell_type": "code",
      "metadata": {
        "colab": {
          "base_uri": "https://localhost:8080/"
        },
        "id": "_E7en1sFNHi6",
        "outputId": "20f7a35b-ecff-4444-d528-75a7ace0edc0"
      },
      "source": [
        "# Let's see the prediction again\n",
        "model.predict([17.0])"
      ],
      "execution_count": 14,
      "outputs": [
        {
          "output_type": "execute_result",
          "data": {
            "text/plain": [
              "array([[27.357454]], dtype=float32)"
            ]
          },
          "metadata": {
            "tags": []
          },
          "execution_count": 14
        }
      ]
    },
    {
      "cell_type": "markdown",
      "metadata": {
        "id": "VSqW7Q6lNS0q"
      },
      "source": [
        "## Evaluating a model\n",
        "\n",
        "A typical workflow in building a neural network model is:\n",
        "\n",
        "```\n",
        "Build a model -> fit it -> evaluate it -> tweak a model ->\n",
        "evaluate it ->  ... \n",
        "``` "
      ]
    },
    {
      "cell_type": "code",
      "metadata": {
        "colab": {
          "base_uri": "https://localhost:8080/"
        },
        "id": "FIR4KS9kWo7A",
        "outputId": "9f2e48cc-b82e-4e33-ce1c-3e17c6d2debb"
      },
      "source": [
        "# Make a bigger dataset\n",
        "X = tf.range(-100, 100, 4)\n",
        "X"
      ],
      "execution_count": 15,
      "outputs": [
        {
          "output_type": "execute_result",
          "data": {
            "text/plain": [
              "<tf.Tensor: shape=(50,), dtype=int32, numpy=\n",
              "array([-100,  -96,  -92,  -88,  -84,  -80,  -76,  -72,  -68,  -64,  -60,\n",
              "        -56,  -52,  -48,  -44,  -40,  -36,  -32,  -28,  -24,  -20,  -16,\n",
              "        -12,   -8,   -4,    0,    4,    8,   12,   16,   20,   24,   28,\n",
              "         32,   36,   40,   44,   48,   52,   56,   60,   64,   68,   72,\n",
              "         76,   80,   84,   88,   92,   96], dtype=int32)>"
            ]
          },
          "metadata": {
            "tags": []
          },
          "execution_count": 15
        }
      ]
    },
    {
      "cell_type": "code",
      "metadata": {
        "colab": {
          "base_uri": "https://localhost:8080/"
        },
        "id": "MNviiy6IcqsA",
        "outputId": "769703ed-e0b0-447a-eb5c-588e0a5f810d"
      },
      "source": [
        "# Make labels for the data\n",
        "y = X + 10\n",
        "y"
      ],
      "execution_count": 16,
      "outputs": [
        {
          "output_type": "execute_result",
          "data": {
            "text/plain": [
              "<tf.Tensor: shape=(50,), dtype=int32, numpy=\n",
              "array([-90, -86, -82, -78, -74, -70, -66, -62, -58, -54, -50, -46, -42,\n",
              "       -38, -34, -30, -26, -22, -18, -14, -10,  -6,  -2,   2,   6,  10,\n",
              "        14,  18,  22,  26,  30,  34,  38,  42,  46,  50,  54,  58,  62,\n",
              "        66,  70,  74,  78,  82,  86,  90,  94,  98, 102, 106], dtype=int32)>"
            ]
          },
          "metadata": {
            "tags": []
          },
          "execution_count": 16
        }
      ]
    },
    {
      "cell_type": "code",
      "metadata": {
        "colab": {
          "base_uri": "https://localhost:8080/",
          "height": 282
        },
        "id": "04RIcIawc66S",
        "outputId": "74c1e018-23e6-480d-8fb8-df2c33350879"
      },
      "source": [
        "# Visualize the data\n",
        "plt.scatter(X, y)"
      ],
      "execution_count": 17,
      "outputs": [
        {
          "output_type": "execute_result",
          "data": {
            "text/plain": [
              "<matplotlib.collections.PathCollection at 0x7fdc79887550>"
            ]
          },
          "metadata": {
            "tags": []
          },
          "execution_count": 17
        },
        {
          "output_type": "display_data",
          "data": {
            "image/png": "[encoded data removed]",
            "text/plain": [
              "<Figure size 432x288 with 1 Axes>"
            ]
          },
          "metadata": {
            "tags": [],
            "needs_background": "light"
          }
        }
      ]
    },
    {
      "cell_type": "markdown",
      "metadata": {
        "id": "0iHcSIXCd2RF"
      },
      "source": [
        "### The 3 sets...\n",
        "\n",
        "* Training set - This is the set from which the model learns, typically 70-80% of the data.\n",
        "* Validation set - In this set the model gets tuned, typically 10-15% of the data.\n",
        "* Test set - In this set the model gets evaluated, typically 10-15% of the data."
      ]
    },
    {
      "cell_type": "code",
      "metadata": {
        "colab": {
          "base_uri": "https://localhost:8080/"
        },
        "id": "_G93iwUuf1uk",
        "outputId": "56a3f07b-9fd4-4888-c2ce-af6da46f8ff8"
      },
      "source": [
        "# Check the number of samples\n",
        "len(X)"
      ],
      "execution_count": 18,
      "outputs": [
        {
          "output_type": "execute_result",
          "data": {
            "text/plain": [
              "50"
            ]
          },
          "metadata": {
            "tags": []
          },
          "execution_count": 18
        }
      ]
    },
    {
      "cell_type": "code",
      "metadata": {
        "colab": {
          "base_uri": "https://localhost:8080/"
        },
        "id": "ZdNlB11XiOf9",
        "outputId": "0598c835-9b6d-45fb-87a7-4aa58de91b72"
      },
      "source": [
        "# Split the data into train and test sets\n",
        "X_train = X[:40]\n",
        "X_test = X[40:]\n",
        "\n",
        "y_train = y[:40]\n",
        "y_test = y[40:]\n",
        "\n",
        "len(X_train), len(X_test), len(y_train), len(y_test)"
      ],
      "execution_count": 19,
      "outputs": [
        {
          "output_type": "execute_result",
          "data": {
            "text/plain": [
              "(40, 10, 40, 10)"
            ]
          },
          "metadata": {
            "tags": []
          },
          "execution_count": 19
        }
      ]
    },
    {
      "cell_type": "code",
      "metadata": {
        "colab": {
          "base_uri": "https://localhost:8080/",
          "height": 428
        },
        "id": "Vs4NIeEVjDjJ",
        "outputId": "d14defc2-f282-49c6-9107-859a80c8eb0a"
      },
      "source": [
        "### Visualizing the data\n",
        "plt.figure(figsize=(10, 7))\n",
        "\n",
        "# Plot trainig data in blue\n",
        "plt.scatter(X_train, y_train, c=\"b\", label=\"Training Data\")\n",
        "\n",
        "# Plot test data in green\n",
        "plt.scatter(X_test, y_test, c=\"g\", label=\"Test Data\")\n",
        "\n",
        "# Show legend\n",
        "plt.legend();"
      ],
      "execution_count": 20,
      "outputs": [
        {
          "output_type": "display_data",
          "data": {
            "image/png": "[encoded data removed]",
            "text/plain": [
              "<Figure size 720x504 with 1 Axes>"
            ]
          },
          "metadata": {
            "tags": [],
            "needs_background": "light"
          }
        }
      ]
    },
    {
      "cell_type": "code",
      "metadata": {
        "id": "mPK0dQzNkyW_"
      },
      "source": [
        "# Let's build another neural network for our new data\n",
        "\n",
        "# 1. Create a model\n",
        "model = tf.keras.Sequential([\n",
        "    tf.keras.layers.Dense(1)\n",
        "])\n",
        "\n",
        "# 2. Compile the model\n",
        "model.compile(loss=tf.keras.losses.mae,\n",
        "              optimizer=tf.keras.optimizers.SGD(),\n",
        "              metrics = [\"mae\"])\n",
        "\n",
        "# # 3. Fit the model\n",
        "# model.fit(X_train, y_train, epochs=100)"
      ],
      "execution_count": 21,
      "outputs": []
    },
    {
      "cell_type": "code",
      "metadata": {
        "id": "RrG3VXgvpJjv"
      },
      "source": [
        "# model.summary()"
      ],
      "execution_count": 22,
      "outputs": []
    },
    {
      "cell_type": "code",
      "metadata": {
        "id": "8mYvru2HpLf9",
        "colab": {
          "base_uri": "https://localhost:8080/"
        },
        "outputId": "15991307-7662-4258-d3d8-069b0a84fc30"
      },
      "source": [
        "# Let's create a model which builds automatically by defining the input_shape argument\n",
        "tf.random.set_seed = 42\n",
        "\n",
        "# Build a model\n",
        "model = tf.keras.Sequential([\n",
        "    tf.keras.layers.Dense(10, input_shape=[1], name=\"input_layer\"),\n",
        "    tf.keras.layers.Dense(10, name=\"hidden_layer_1\"),\n",
        "    tf.keras.layers.Dense(1, name=\"output_layer\"),\n",
        "], name=\"first_model\")\n",
        "\n",
        "# Compile model\n",
        "model.compile(loss=tf.keras.losses.mae,\n",
        "              optimizer=tf.keras.optimizers.Adam(lr=.01),\n",
        "              metrics=[\"mae\"])\n"
      ],
      "execution_count": 23,
      "outputs": [
        {
          "output_type": "stream",
          "text": [
            "/usr/local/lib/python3.7/dist-packages/tensorflow/python/keras/optimizer_v2/optimizer_v2.py:375: UserWarning: The `lr` argument is deprecated, use `learning_rate` instead.\n",
            "  \"The `lr` argument is deprecated, use `learning_rate` instead.\")\n"
          ],
          "name": "stderr"
        }
      ]
    },
    {
      "cell_type": "code",
      "metadata": {
        "colab": {
          "base_uri": "https://localhost:8080/"
        },
        "id": "f7Vvn45cqTja",
        "outputId": "2856ee16-2a77-449f-f48c-a198408a05b2"
      },
      "source": [
        "model.summary()"
      ],
      "execution_count": 24,
      "outputs": [
        {
          "output_type": "stream",
          "text": [
            "Model: \"first_model\"\n",
            "_________________________________________________________________\n",
            "Layer (type)                 Output Shape              Param #   \n",
            "=================================================================\n",
            "input_layer (Dense)          (None, 10)                20        \n",
            "_________________________________________________________________\n",
            "hidden_layer_1 (Dense)       (None, 10)                110       \n",
            "_________________________________________________________________\n",
            "output_layer (Dense)         (None, 1)                 11        \n",
            "=================================================================\n",
            "Total params: 141\n",
            "Trainable params: 141\n",
            "Non-trainable params: 0\n",
            "_________________________________________________________________\n"
          ],
          "name": "stdout"
        }
      ]
    },
    {
      "cell_type": "markdown",
      "metadata": {
        "id": "RG3Zy6dnqVt4"
      },
      "source": [
        "* Total params - total number of parameters in the model.\n",
        "* Trainable params - these are the parameters (patterns) a model can update as it trains.\n",
        "* Non-trainable params - these parameters aren't updated during training."
      ]
    },
    {
      "cell_type": "code",
      "metadata": {
        "colab": {
          "base_uri": "https://localhost:8080/"
        },
        "id": "2Pn-4RvY4hiY",
        "outputId": "0f47ab84-d4ab-4a76-f356-5539232617fa"
      },
      "source": [
        "# Let's fit our model with the training data\n",
        "model.fit(X_train, y_train, epochs=100, verbose=0)"
      ],
      "execution_count": 25,
      "outputs": [
        {
          "output_type": "execute_result",
          "data": {
            "text/plain": [
              "<tensorflow.python.keras.callbacks.History at 0x7fdc78f3d9d0>"
            ]
          },
          "metadata": {
            "tags": []
          },
          "execution_count": 25
        }
      ]
    },
    {
      "cell_type": "code",
      "metadata": {
        "colab": {
          "base_uri": "https://localhost:8080/"
        },
        "id": "-lNZ687J5j_q",
        "outputId": "4f1e30d5-3f42-4592-cc7a-de9bfe450ae4"
      },
      "source": [
        "# Get our model summary\n",
        "model.summary()"
      ],
      "execution_count": 26,
      "outputs": [
        {
          "output_type": "stream",
          "text": [
            "Model: \"first_model\"\n",
            "_________________________________________________________________\n",
            "Layer (type)                 Output Shape              Param #   \n",
            "=================================================================\n",
            "input_layer (Dense)          (None, 10)                20        \n",
            "_________________________________________________________________\n",
            "hidden_layer_1 (Dense)       (None, 10)                110       \n",
            "_________________________________________________________________\n",
            "output_layer (Dense)         (None, 1)                 11        \n",
            "=================================================================\n",
            "Total params: 141\n",
            "Trainable params: 141\n",
            "Non-trainable params: 0\n",
            "_________________________________________________________________\n"
          ],
          "name": "stdout"
        }
      ]
    },
    {
      "cell_type": "code",
      "metadata": {
        "colab": {
          "base_uri": "https://localhost:8080/",
          "height": 422
        },
        "id": "mvFtwInw5_Kg",
        "outputId": "a814eb8f-79aa-40b2-f622-ff08c938bbb7"
      },
      "source": [
        "from tensorflow.keras.utils import plot_model\n",
        "\n",
        "plot_model(model, show_shapes=True)"
      ],
      "execution_count": 27,
      "outputs": [
        {
          "output_type": "execute_result",
          "data": {
            "image/png": "[encoded data removed]",
            "text/plain": [
              "<IPython.core.display.Image object>"
            ]
          },
          "metadata": {
            "tags": []
          },
          "execution_count": 27
        }
      ]
    },
    {
      "cell_type": "markdown",
      "metadata": {
        "id": "u94uE_OB9sc2"
      },
      "source": [
        "### Visualizing models prediction"
      ]
    },
    {
      "cell_type": "code",
      "metadata": {
        "colab": {
          "base_uri": "https://localhost:8080/"
        },
        "id": "_VaUVrGuGy43",
        "outputId": "5102a46c-e702-4301-c889-ede3233a868e"
      },
      "source": [
        "# Make predictions\n",
        "y_pred = model.predict(X_test)\n",
        "y_pred"
      ],
      "execution_count": 28,
      "outputs": [
        {
          "output_type": "execute_result",
          "data": {
            "text/plain": [
              "array([[ 69.18848 ],\n",
              "       [ 73.13339 ],\n",
              "       [ 77.0783  ],\n",
              "       [ 81.023224],\n",
              "       [ 84.96814 ],\n",
              "       [ 88.913055],\n",
              "       [ 92.857956],\n",
              "       [ 96.80288 ],\n",
              "       [100.7478  ],\n",
              "       [104.69271 ]], dtype=float32)"
            ]
          },
          "metadata": {
            "tags": []
          },
          "execution_count": 28
        }
      ]
    },
    {
      "cell_type": "code",
      "metadata": {
        "colab": {
          "base_uri": "https://localhost:8080/"
        },
        "id": "cQCC0zw6JDTi",
        "outputId": "daad5d79-af0e-47e2-ae1b-23f0a9b311fc"
      },
      "source": [
        "y_test"
      ],
      "execution_count": 29,
      "outputs": [
        {
          "output_type": "execute_result",
          "data": {
            "text/plain": [
              "<tf.Tensor: shape=(10,), dtype=int32, numpy=array([ 70,  74,  78,  82,  86,  90,  94,  98, 102, 106], dtype=int32)>"
            ]
          },
          "metadata": {
            "tags": []
          },
          "execution_count": 29
        }
      ]
    },
    {
      "cell_type": "code",
      "metadata": {
        "id": "BdzGiVDjKTDM"
      },
      "source": [
        "# Let's create a plotting function\n",
        "\n",
        "def plot_predictions(train_data=X_train, train_label=y_train,\n",
        "                     test_data=X_test, test_label=y_test,\n",
        "                     predictions=y_pred):\n",
        "  \"\"\"\n",
        "  Plots training data, test data and compares predictions to ground truth\n",
        "  \"\"\"\n",
        "  plt.figure(figsize=(10,7))\n",
        "  # Plot training data in blue\n",
        "  plt.scatter(train_data, train_label, c=\"b\", label=\"Training Data\")\n",
        "\n",
        "  # Plot test data in green\n",
        "  plt.scatter(test_data, test_label, c=\"g\", label=\"Test Data\")\n",
        "\n",
        "  # Plot model's prediction in red\n",
        "  plt.scatter(test_data, predictions, c=\"r\", label=\"Predictions\")\n",
        "\n",
        "  # Show legend\n",
        "  plt.legend()"
      ],
      "execution_count": 30,
      "outputs": []
    },
    {
      "cell_type": "code",
      "metadata": {
        "colab": {
          "base_uri": "https://localhost:8080/",
          "height": 428
        },
        "id": "sHLU6bx9LaLV",
        "outputId": "a5894fe6-ae86-40ab-8038-11469a546397"
      },
      "source": [
        "plot_predictions(X_train, y_train, X_test, y_test, y_pred)"
      ],
      "execution_count": 31,
      "outputs": [
        {
          "output_type": "display_data",
          "data": {
            "image/png": "[encoded data removed]",
            "text/plain": [
              "<Figure size 720x504 with 1 Axes>"
            ]
          },
          "metadata": {
            "tags": [],
            "needs_background": "light"
          }
        }
      ]
    },
    {
      "cell_type": "markdown",
      "metadata": {
        "id": "MicVNXkWNcIB"
      },
      "source": [
        "### Evaluating our model's prediction with evaluation metrics"
      ]
    },
    {
      "cell_type": "code",
      "metadata": {
        "colab": {
          "base_uri": "https://localhost:8080/"
        },
        "id": "NyeUxqy3OzG2",
        "outputId": "385c2582-d298-42cf-9bea-6d8134966017"
      },
      "source": [
        "# Evaluate the model on test data\n",
        "model.evaluate(X_test, y_test)"
      ],
      "execution_count": 32,
      "outputs": [
        {
          "output_type": "stream",
          "text": [
            "1/1 [==============================] - 0s 133ms/step - loss: 1.0594 - mae: 1.0594\n"
          ],
          "name": "stdout"
        },
        {
          "output_type": "execute_result",
          "data": {
            "text/plain": [
              "[1.0594024658203125, 1.0594024658203125]"
            ]
          },
          "metadata": {
            "tags": []
          },
          "execution_count": 32
        }
      ]
    },
    {
      "cell_type": "code",
      "metadata": {
        "colab": {
          "base_uri": "https://localhost:8080/"
        },
        "id": "YThk3KnjThTh",
        "outputId": "e47bce99-ef4e-4574-a1b5-ef22419d9c25"
      },
      "source": [
        "# Calculate the mean absolute error\n",
        "mae = tf.keras.losses.MAE(y_test, tf.constant(tf.squeeze(y_pred)))\n",
        "mae"
      ],
      "execution_count": 35,
      "outputs": [
        {
          "output_type": "execute_result",
          "data": {
            "text/plain": [
              "<tf.Tensor: shape=(), dtype=float32, numpy=1.0594063>"
            ]
          },
          "metadata": {
            "tags": []
          },
          "execution_count": 35
        }
      ]
    },
    {
      "cell_type": "code",
      "metadata": {
        "colab": {
          "base_uri": "https://localhost:8080/"
        },
        "id": "UeKNOoxaUFOi",
        "outputId": "54b73203-ab60-4bf6-af24-692960743316"
      },
      "source": [
        "# Calculate the mean squared error\n",
        "mse = tf.metrics.mean_squared_error(y_test, tf.constant(tf.squeeze(y_pred)))\n",
        "mse"
      ],
      "execution_count": 38,
      "outputs": [
        {
          "output_type": "execute_result",
          "data": {
            "text/plain": [
              "<tf.Tensor: shape=(), dtype=float32, numpy=1.1473751>"
            ]
          },
          "metadata": {
            "tags": []
          },
          "execution_count": 38
        }
      ]
    },
    {
      "cell_type": "markdown",
      "metadata": {
        "id": "fjriP4TTyZv2"
      },
      "source": [
        "### Running experiments to improve our model"
      ]
    },
    {
      "cell_type": "markdown",
      "metadata": {
        "id": "Fk1AeFtJ14z8"
      },
      "source": [
        "#### Build a model with 1 layer and 100 epochs"
      ]
    },
    {
      "cell_type": "code",
      "metadata": {
        "colab": {
          "base_uri": "https://localhost:8080/"
        },
        "id": "l0WjbEtX5Nw1",
        "outputId": "704a2441-e811-4764-bca1-2b5e235f958d"
      },
      "source": [
        "# Set random seed\n",
        "tf.random.set_seed=42\n",
        "\n",
        "# 1. Create a model\n",
        "model_1 = tf.keras.Sequential([\n",
        "    tf.keras.layers.Dense(1)\n",
        "])\n",
        "\n",
        "# 2. Compile the model\n",
        "model_1.compile(loss=tf.keras.losses.mae,\n",
        "              optimizer=tf.keras.optimizers.SGD(),\n",
        "              metrics=[\"mae\"])\n",
        "\n",
        "# 3. Fit the model\n",
        "model_1.fit(X_train, y_train, epochs=100)"
      ],
      "execution_count": 39,
      "outputs": [
        {
          "output_type": "stream",
          "text": [
            "Epoch 1/100\n",
            "2/2 [==============================] - 0s 4ms/step - loss: 26.0780 - mae: 26.0780\n",
            "Epoch 2/100\n",
            "2/2 [==============================] - 0s 4ms/step - loss: 8.2973 - mae: 8.2973\n",
            "Epoch 3/100\n",
            "2/2 [==============================] - 0s 4ms/step - loss: 10.3616 - mae: 10.3616\n",
            "Epoch 4/100\n",
            "2/2 [==============================] - 0s 6ms/step - loss: 7.7912 - mae: 7.7912\n",
            "Epoch 5/100\n",
            "2/2 [==============================] - 0s 4ms/step - loss: 12.1410 - mae: 12.1410\n",
            "Epoch 6/100\n",
            "2/2 [==============================] - 0s 4ms/step - loss: 18.0346 - mae: 18.0346\n",
            "Epoch 7/100\n",
            "2/2 [==============================] - 0s 3ms/step - loss: 9.5520 - mae: 9.5520\n",
            "Epoch 8/100\n",
            "2/2 [==============================] - 0s 4ms/step - loss: 10.4315 - mae: 10.4315\n",
            "Epoch 9/100\n",
            "2/2 [==============================] - 0s 4ms/step - loss: 16.4075 - mae: 16.4075\n",
            "Epoch 10/100\n",
            "2/2 [==============================] - 0s 4ms/step - loss: 12.1379 - mae: 12.1379\n",
            "Epoch 11/100\n",
            "2/2 [==============================] - 0s 3ms/step - loss: 9.5565 - mae: 9.5565\n",
            "Epoch 12/100\n",
            "2/2 [==============================] - 0s 6ms/step - loss: 12.9022 - mae: 12.9022\n",
            "Epoch 13/100\n",
            "2/2 [==============================] - 0s 3ms/step - loss: 10.6546 - mae: 10.6546\n",
            "Epoch 14/100\n",
            "2/2 [==============================] - 0s 5ms/step - loss: 10.4868 - mae: 10.4868\n",
            "Epoch 15/100\n",
            "2/2 [==============================] - 0s 4ms/step - loss: 10.2066 - mae: 10.2066\n",
            "Epoch 16/100\n",
            "2/2 [==============================] - 0s 4ms/step - loss: 7.8252 - mae: 7.8252\n",
            "Epoch 17/100\n",
            "2/2 [==============================] - 0s 4ms/step - loss: 8.9612 - mae: 8.9612\n",
            "Epoch 18/100\n",
            "2/2 [==============================] - 0s 6ms/step - loss: 9.3763 - mae: 9.3763\n",
            "Epoch 19/100\n",
            "2/2 [==============================] - 0s 3ms/step - loss: 7.6008 - mae: 7.6008\n",
            "Epoch 20/100\n",
            "2/2 [==============================] - 0s 4ms/step - loss: 9.7530 - mae: 9.7530\n",
            "Epoch 21/100\n",
            "2/2 [==============================] - 0s 3ms/step - loss: 18.6664 - mae: 18.6664\n",
            "Epoch 22/100\n",
            "2/2 [==============================] - 0s 5ms/step - loss: 12.1417 - mae: 12.1417\n",
            "Epoch 23/100\n",
            "2/2 [==============================] - 0s 6ms/step - loss: 10.7941 - mae: 10.7941\n",
            "Epoch 24/100\n",
            "2/2 [==============================] - 0s 6ms/step - loss: 8.4220 - mae: 8.4220\n",
            "Epoch 25/100\n",
            "2/2 [==============================] - 0s 8ms/step - loss: 7.9921 - mae: 7.9921\n",
            "Epoch 26/100\n",
            "2/2 [==============================] - 0s 5ms/step - loss: 22.8686 - mae: 22.8686\n",
            "Epoch 27/100\n",
            "2/2 [==============================] - 0s 4ms/step - loss: 12.2764 - mae: 12.2764\n",
            "Epoch 28/100\n",
            "2/2 [==============================] - 0s 3ms/step - loss: 15.0827 - mae: 15.0827\n",
            "Epoch 29/100\n",
            "2/2 [==============================] - 0s 3ms/step - loss: 16.1399 - mae: 16.1399\n",
            "Epoch 30/100\n",
            "2/2 [==============================] - 0s 3ms/step - loss: 8.7254 - mae: 8.7254\n",
            "Epoch 31/100\n",
            "2/2 [==============================] - 0s 5ms/step - loss: 12.0002 - mae: 12.0002\n",
            "Epoch 32/100\n",
            "2/2 [==============================] - 0s 5ms/step - loss: 12.4117 - mae: 12.4117\n",
            "Epoch 33/100\n",
            "2/2 [==============================] - 0s 3ms/step - loss: 8.0137 - mae: 8.0137\n",
            "Epoch 34/100\n",
            "2/2 [==============================] - 0s 5ms/step - loss: 10.6857 - mae: 10.6857\n",
            "Epoch 35/100\n",
            "2/2 [==============================] - 0s 6ms/step - loss: 10.3963 - mae: 10.3963\n",
            "Epoch 36/100\n",
            "2/2 [==============================] - 0s 8ms/step - loss: 10.8536 - mae: 10.8536\n",
            "Epoch 37/100\n",
            "2/2 [==============================] - 0s 12ms/step - loss: 14.0908 - mae: 14.0908\n",
            "Epoch 38/100\n",
            "2/2 [==============================] - 0s 11ms/step - loss: 15.3954 - mae: 15.3954\n",
            "Epoch 39/100\n",
            "2/2 [==============================] - 0s 12ms/step - loss: 15.2845 - mae: 15.2845\n",
            "Epoch 40/100\n",
            "2/2 [==============================] - 0s 5ms/step - loss: 10.1424 - mae: 10.1424\n",
            "Epoch 41/100\n",
            "2/2 [==============================] - 0s 8ms/step - loss: 8.6781 - mae: 8.6781\n",
            "Epoch 42/100\n",
            "2/2 [==============================] - 0s 7ms/step - loss: 12.4773 - mae: 12.4773\n",
            "Epoch 43/100\n",
            "2/2 [==============================] - 0s 11ms/step - loss: 9.1212 - mae: 9.1212\n",
            "Epoch 44/100\n",
            "2/2 [==============================] - 0s 6ms/step - loss: 10.5393 - mae: 10.5393\n",
            "Epoch 45/100\n",
            "2/2 [==============================] - 0s 6ms/step - loss: 13.7645 - mae: 13.7645\n",
            "Epoch 46/100\n",
            "2/2 [==============================] - 0s 6ms/step - loss: 10.6866 - mae: 10.6866\n",
            "Epoch 47/100\n",
            "2/2 [==============================] - 0s 7ms/step - loss: 11.6402 - mae: 11.6402\n",
            "Epoch 48/100\n",
            "2/2 [==============================] - 0s 8ms/step - loss: 10.4011 - mae: 10.4011\n",
            "Epoch 49/100\n",
            "2/2 [==============================] - 0s 9ms/step - loss: 9.7776 - mae: 9.7776\n",
            "Epoch 50/100\n",
            "2/2 [==============================] - 0s 6ms/step - loss: 14.9643 - mae: 14.9643\n",
            "Epoch 51/100\n",
            "2/2 [==============================] - 0s 4ms/step - loss: 9.1888 - mae: 9.1888\n",
            "Epoch 52/100\n",
            "2/2 [==============================] - 0s 3ms/step - loss: 10.2855 - mae: 10.2855\n",
            "Epoch 53/100\n",
            "2/2 [==============================] - 0s 6ms/step - loss: 13.7270 - mae: 13.7270\n",
            "Epoch 54/100\n",
            "2/2 [==============================] - 0s 4ms/step - loss: 8.1596 - mae: 8.1596\n",
            "Epoch 55/100\n",
            "2/2 [==============================] - 0s 3ms/step - loss: 19.7301 - mae: 19.7301\n",
            "Epoch 56/100\n",
            "2/2 [==============================] - 0s 4ms/step - loss: 10.5909 - mae: 10.5909\n",
            "Epoch 57/100\n",
            "2/2 [==============================] - 0s 5ms/step - loss: 10.9271 - mae: 10.9271\n",
            "Epoch 58/100\n",
            "2/2 [==============================] - 0s 5ms/step - loss: 13.8718 - mae: 13.8718\n",
            "Epoch 59/100\n",
            "2/2 [==============================] - 0s 7ms/step - loss: 8.7788 - mae: 8.7788\n",
            "Epoch 60/100\n",
            "2/2 [==============================] - 0s 3ms/step - loss: 12.0016 - mae: 12.0016\n",
            "Epoch 61/100\n",
            "2/2 [==============================] - 0s 10ms/step - loss: 11.5180 - mae: 11.5180\n",
            "Epoch 62/100\n",
            "2/2 [==============================] - 0s 5ms/step - loss: 7.6210 - mae: 7.6210\n",
            "Epoch 63/100\n",
            "2/2 [==============================] - 0s 12ms/step - loss: 13.1646 - mae: 13.1646\n",
            "Epoch 64/100\n",
            "2/2 [==============================] - 0s 10ms/step - loss: 12.4853 - mae: 12.4853\n",
            "Epoch 65/100\n",
            "2/2 [==============================] - 0s 3ms/step - loss: 10.2383 - mae: 10.2383\n",
            "Epoch 66/100\n",
            "2/2 [==============================] - 0s 4ms/step - loss: 9.9045 - mae: 9.9045\n",
            "Epoch 67/100\n",
            "2/2 [==============================] - 0s 3ms/step - loss: 9.0089 - mae: 9.0089\n",
            "Epoch 68/100\n",
            "2/2 [==============================] - 0s 6ms/step - loss: 11.5428 - mae: 11.5428\n",
            "Epoch 69/100\n",
            "2/2 [==============================] - 0s 3ms/step - loss: 9.0110 - mae: 9.0110\n",
            "Epoch 70/100\n",
            "2/2 [==============================] - 0s 4ms/step - loss: 13.9925 - mae: 13.9925\n",
            "Epoch 71/100\n",
            "2/2 [==============================] - 0s 3ms/step - loss: 7.9682 - mae: 7.9682\n",
            "Epoch 72/100\n",
            "2/2 [==============================] - 0s 5ms/step - loss: 7.7240 - mae: 7.7240\n",
            "Epoch 73/100\n",
            "2/2 [==============================] - 0s 6ms/step - loss: 13.3774 - mae: 13.3774\n",
            "Epoch 74/100\n",
            "2/2 [==============================] - 0s 5ms/step - loss: 8.5017 - mae: 8.5017\n",
            "Epoch 75/100\n",
            "2/2 [==============================] - 0s 8ms/step - loss: 10.4065 - mae: 10.4065\n",
            "Epoch 76/100\n",
            "2/2 [==============================] - 0s 6ms/step - loss: 9.5440 - mae: 9.5440\n",
            "Epoch 77/100\n",
            "2/2 [==============================] - 0s 4ms/step - loss: 10.5926 - mae: 10.5926\n",
            "Epoch 78/100\n",
            "2/2 [==============================] - 0s 6ms/step - loss: 13.7356 - mae: 13.7356\n",
            "Epoch 79/100\n",
            "2/2 [==============================] - 0s 3ms/step - loss: 13.7776 - mae: 13.7776\n",
            "Epoch 80/100\n",
            "2/2 [==============================] - 0s 4ms/step - loss: 8.1534 - mae: 8.1534\n",
            "Epoch 81/100\n",
            "2/2 [==============================] - 0s 4ms/step - loss: 14.1404 - mae: 14.1404\n",
            "Epoch 82/100\n",
            "2/2 [==============================] - 0s 5ms/step - loss: 7.9231 - mae: 7.9231\n",
            "Epoch 83/100\n",
            "2/2 [==============================] - 0s 3ms/step - loss: 13.2788 - mae: 13.2788\n",
            "Epoch 84/100\n",
            "2/2 [==============================] - 0s 6ms/step - loss: 11.3882 - mae: 11.3882\n",
            "Epoch 85/100\n",
            "2/2 [==============================] - 0s 7ms/step - loss: 9.2880 - mae: 9.2880\n",
            "Epoch 86/100\n",
            "2/2 [==============================] - 0s 9ms/step - loss: 15.0003 - mae: 15.0003\n",
            "Epoch 87/100\n",
            "2/2 [==============================] - 0s 5ms/step - loss: 9.4284 - mae: 9.4284\n",
            "Epoch 88/100\n",
            "2/2 [==============================] - 0s 6ms/step - loss: 8.5861 - mae: 8.5861\n",
            "Epoch 89/100\n",
            "2/2 [==============================] - 0s 9ms/step - loss: 9.4448 - mae: 9.4448\n",
            "Epoch 90/100\n",
            "2/2 [==============================] - 0s 4ms/step - loss: 24.1670 - mae: 24.1670\n",
            "Epoch 91/100\n",
            "2/2 [==============================] - 0s 6ms/step - loss: 12.6051 - mae: 12.6051\n",
            "Epoch 92/100\n",
            "2/2 [==============================] - 0s 6ms/step - loss: 8.6111 - mae: 8.6111\n",
            "Epoch 93/100\n",
            "2/2 [==============================] - 0s 4ms/step - loss: 10.2668 - mae: 10.2668\n",
            "Epoch 94/100\n",
            "2/2 [==============================] - 0s 6ms/step - loss: 6.6726 - mae: 6.6726\n",
            "Epoch 95/100\n",
            "2/2 [==============================] - 0s 3ms/step - loss: 11.4520 - mae: 11.4520\n",
            "Epoch 96/100\n",
            "2/2 [==============================] - 0s 5ms/step - loss: 15.1483 - mae: 15.1483\n",
            "Epoch 97/100\n",
            "2/2 [==============================] - 0s 6ms/step - loss: 9.6731 - mae: 9.6731\n",
            "Epoch 98/100\n",
            "2/2 [==============================] - 0s 5ms/step - loss: 9.8415 - mae: 9.8415\n",
            "Epoch 99/100\n",
            "2/2 [==============================] - 0s 6ms/step - loss: 11.7518 - mae: 11.7518\n",
            "Epoch 100/100\n",
            "2/2 [==============================] - 0s 5ms/step - loss: 8.4396 - mae: 8.4396\n"
          ],
          "name": "stdout"
        },
        {
          "output_type": "execute_result",
          "data": {
            "text/plain": [
              "<tensorflow.python.keras.callbacks.History at 0x7fdc740e0ed0>"
            ]
          },
          "metadata": {
            "tags": []
          },
          "execution_count": 39
        }
      ]
    },
    {
      "cell_type": "code",
      "metadata": {
        "colab": {
          "base_uri": "https://localhost:8080/",
          "height": 465
        },
        "id": "jrhM5LmJ6ITr",
        "outputId": "7334be5c-5aac-4cf5-e4cd-3ccb5a6f51ea"
      },
      "source": [
        "# Make predictions and plot predictions\n",
        "y_pred_1 = model_1.predict(X_test)\n",
        "plot_predictions(predictions=y_pred_1)"
      ],
      "execution_count": 40,
      "outputs": [
        {
          "output_type": "stream",
          "text": [
            "WARNING:tensorflow:5 out of the last 5 calls to <function Model.make_predict_function.<locals>.predict_function at 0x7fdc72f48f80> triggered tf.function retracing. Tracing is expensive and the excessive number of tracings could be due to (1) creating @tf.function repeatedly in a loop, (2) passing tensors with different shapes, (3) passing Python objects instead of tensors. For (1), please define your @tf.function outside of the loop. For (2), @tf.function has experimental_relax_shapes=True option that relaxes argument shapes that can avoid unnecessary retracing. For (3), please refer to https://www.tensorflow.org/guide/function#controlling_retracing and https://www.tensorflow.org/api_docs/python/tf/function for  more details.\n"
          ],
          "name": "stdout"
        },
        {
          "output_type": "display_data",
          "data": {
            "image/png": "[encoded data removed]",
            "text/plain": [
              "<Figure size 720x504 with 1 Axes>"
            ]
          },
          "metadata": {
            "tags": [],
            "needs_background": "light"
          }
        }
      ]
    },
    {
      "cell_type": "code",
      "metadata": {
        "colab": {
          "base_uri": "https://localhost:8080/"
        },
        "id": "3mL9MBl1D8Al",
        "outputId": "f5724df7-9208-422b-a4b0-f0f1c1e77c19"
      },
      "source": [
        "# Calculate model_1 evaluation\n",
        "mae_1 = tf.metrics.mean_absolute_error(y_test, tf.squeeze(y_pred_1))\n",
        "mse_1 = tf.metrics.mean_squared_error(y_test, tf.squeeze(y_pred_1))\n",
        "\n",
        "mae_1, mse_1"
      ],
      "execution_count": 41,
      "outputs": [
        {
          "output_type": "execute_result",
          "data": {
            "text/plain": [
              "(<tf.Tensor: shape=(), dtype=float32, numpy=17.27472>,\n",
              " <tf.Tensor: shape=(), dtype=float32, numpy=300.02484>)"
            ]
          },
          "metadata": {
            "tags": []
          },
          "execution_count": 41
        }
      ]
    },
    {
      "cell_type": "markdown",
      "metadata": {
        "id": "dfxfZYdsFp4I"
      },
      "source": [
        "#### Build model with 2 layers and 100 epochs"
      ]
    },
    {
      "cell_type": "code",
      "metadata": {
        "colab": {
          "base_uri": "https://localhost:8080/"
        },
        "id": "jeuZnvi2H5k1",
        "outputId": "bed749ba-4ecf-48e7-fb24-63d927f4f93e"
      },
      "source": [
        "# Set random seed\n",
        "tf.random.set_seed = 42\n",
        "\n",
        "# 1. Create a model\n",
        "model_2 = tf.keras.Sequential([\n",
        "    tf.keras.layers.Dense(10),\n",
        "    tf.keras.layers.Dense(1)\n",
        "])\n",
        "\n",
        "# 2. Compile the model\n",
        "model_2.compile(loss=tf.keras.losses.mae,\n",
        "              optimizer=tf.keras.optimizers.SGD(),\n",
        "              metrics=[\"mae\"])\n",
        "\n",
        "# 3. Fit the model\n",
        "model_2.fit(X_train, y_train, epochs=100, verbose=0)"
      ],
      "execution_count": 45,
      "outputs": [
        {
          "output_type": "execute_result",
          "data": {
            "text/plain": [
              "<tensorflow.python.keras.callbacks.History at 0x7fdc71520950>"
            ]
          },
          "metadata": {
            "tags": []
          },
          "execution_count": 45
        }
      ]
    },
    {
      "cell_type": "code",
      "metadata": {
        "colab": {
          "base_uri": "https://localhost:8080/",
          "height": 428
        },
        "id": "IS4hOTDnJKf4",
        "outputId": "50d85f26-c8bc-48ca-9484-beb4eb7bee98"
      },
      "source": [
        "# Make predictions and plot predictions\n",
        "y_pred_2 = model_2.predict(X_test)\n",
        "plot_predictions(predictions=y_pred_2)"
      ],
      "execution_count": 46,
      "outputs": [
        {
          "output_type": "display_data",
          "data": {
            "image/png": "[encoded data removed]",
            "text/plain": [
              "<Figure size 720x504 with 1 Axes>"
            ]
          },
          "metadata": {
            "tags": [],
            "needs_background": "light"
          }
        }
      ]
    },
    {
      "cell_type": "code",
      "metadata": {
        "colab": {
          "base_uri": "https://localhost:8080/"
        },
        "id": "f467clBFJdQn",
        "outputId": "2804d7c5-346e-47ce-d1c2-695739e05680"
      },
      "source": [
        "# Calculate model_2 evaluation\n",
        "mae_2 = tf.metrics.mean_absolute_error(y_test, tf.squeeze(y_pred_2))\n",
        "mse_2 = tf.metrics.mean_squared_error(y_test, tf.squeeze(y_pred_2))\n",
        "\n",
        "mae_2, mse_2"
      ],
      "execution_count": 47,
      "outputs": [
        {
          "output_type": "execute_result",
          "data": {
            "text/plain": [
              "(<tf.Tensor: shape=(), dtype=float32, numpy=20.94144>,\n",
              " <tf.Tensor: shape=(), dtype=float32, numpy=456.9501>)"
            ]
          },
          "metadata": {
            "tags": []
          },
          "execution_count": 47
        }
      ]
    },
    {
      "cell_type": "markdown",
      "metadata": {
        "id": "yoVA4ypWNiIP"
      },
      "source": [
        "### Comparing results of our experiments"
      ]
    },
    {
      "cell_type": "code",
      "metadata": {
        "colab": {
          "base_uri": "https://localhost:8080/",
          "height": 111
        },
        "id": "nYQtAfAgNpgR",
        "outputId": "bfcf51dd-cf72-4086-830b-524e6db23164"
      },
      "source": [
        "# Let's compare our model results with Pandas DataFrame\n",
        "import pandas as pd\n",
        "\n",
        "model_results = [[\"model_1\", mae_1.numpy(), mse_1.numpy()],\n",
        "                 [\"model_2\", mae_2.numpy(), mse_2.numpy()]]\n",
        "all_results = pd.DataFrame(model_results, columns=[\"model\", \"mae\", \"mse\"])\n",
        "\n",
        "all_results"
      ],
      "execution_count": 51,
      "outputs": [
        {
          "output_type": "execute_result",
          "data": {
            "text/html": [
              "<div>\n",
              "<style scoped>\n",
              "    .dataframe tbody tr th:only-of-type {\n",
              "        vertical-align: middle;\n",
              "    }\n",
              "\n",
              "    .dataframe tbody tr th {\n",
              "        vertical-align: top;\n",
              "    }\n",
              "\n",
              "    .dataframe thead th {\n",
              "        text-align: right;\n",
              "    }\n",
              "</style>\n",
              "<table border=\"1\" class=\"dataframe\">\n",
              "  <thead>\n",
              "    <tr style=\"text-align: right;\">\n",
              "      <th></th>\n",
              "      <th>model</th>\n",
              "      <th>mae</th>\n",
              "      <th>mse</th>\n",
              "    </tr>\n",
              "  </thead>\n",
              "  <tbody>\n",
              "    <tr>\n",
              "      <th>0</th>\n",
              "      <td>model_1</td>\n",
              "      <td>17.274719</td>\n",
              "      <td>300.024841</td>\n",
              "    </tr>\n",
              "    <tr>\n",
              "      <th>1</th>\n",
              "      <td>model_2</td>\n",
              "      <td>20.941441</td>\n",
              "      <td>456.950104</td>\n",
              "    </tr>\n",
              "  </tbody>\n",
              "</table>\n",
              "</div>"
            ],
            "text/plain": [
              "     model        mae         mse\n",
              "0  model_1  17.274719  300.024841\n",
              "1  model_2  20.941441  456.950104"
            ]
          },
          "metadata": {
            "tags": []
          },
          "execution_count": 51
        }
      ]
    },
    {
      "cell_type": "markdown",
      "metadata": {
        "id": "8zAoQaBlOeXm"
      },
      "source": [
        "## Saving our model\n",
        "\n",
        "Saving models allows us to use them in future use.\n",
        "\n",
        "There are two formats in which we can save our model.\n",
        "1. The SavedModel format\n",
        "2. HDF5 format."
      ]
    },
    {
      "cell_type": "code",
      "metadata": {
        "colab": {
          "base_uri": "https://localhost:8080/"
        },
        "id": "RT2h61PgT_eF",
        "outputId": "9884ec2f-8236-4422-e4d7-a458c086b440"
      },
      "source": [
        "# Save model using SavedModel format\n",
        "model.save(\"best_model_saved_model\")"
      ],
      "execution_count": 52,
      "outputs": [
        {
          "output_type": "stream",
          "text": [
            "INFO:tensorflow:Assets written to: best_model_saved_model/assets\n"
          ],
          "name": "stdout"
        }
      ]
    },
    {
      "cell_type": "code",
      "metadata": {
        "id": "LmRV-hL0W5Yv"
      },
      "source": [
        "# Save model using HDF5 format\n",
        "model.save('best_model_hdf5.h5')"
      ],
      "execution_count": 53,
      "outputs": []
    },
    {
      "cell_type": "markdown",
      "metadata": {
        "id": "1mKRAapSX0t-"
      },
      "source": [
        "## Loading in a saved model"
      ]
    },
    {
      "cell_type": "code",
      "metadata": {
        "colab": {
          "base_uri": "https://localhost:8080/"
        },
        "id": "e4wLLLtEZw-4",
        "outputId": "a52ca815-6b8e-4162-8304-986a433d85e5"
      },
      "source": [
        "# Load in saved model format\n",
        "loaded_saved_model = tf.keras.models.load_model(\"best_model_saved_model\")\n",
        "loaded_saved_model.summary()"
      ],
      "execution_count": 54,
      "outputs": [
        {
          "output_type": "stream",
          "text": [
            "Model: \"first_model\"\n",
            "_________________________________________________________________\n",
            "Layer (type)                 Output Shape              Param #   \n",
            "=================================================================\n",
            "input_layer (Dense)          (None, 10)                20        \n",
            "_________________________________________________________________\n",
            "hidden_layer_1 (Dense)       (None, 10)                110       \n",
            "_________________________________________________________________\n",
            "output_layer (Dense)         (None, 1)                 11        \n",
            "=================================================================\n",
            "Total params: 141\n",
            "Trainable params: 141\n",
            "Non-trainable params: 0\n",
            "_________________________________________________________________\n"
          ],
          "name": "stdout"
        }
      ]
    },
    {
      "cell_type": "code",
      "metadata": {
        "colab": {
          "base_uri": "https://localhost:8080/",
          "height": 428
        },
        "id": "0f6eHPa8aREi",
        "outputId": "f8fdeb35-06a4-4d53-f69c-4e683eee3775"
      },
      "source": [
        "y_pred_saved_model = loaded_saved_model.predict(X_test)\n",
        "plot_predictions(predictions=y_pred_saved_model)"
      ],
      "execution_count": 55,
      "outputs": [
        {
          "output_type": "display_data",
          "data": {
            "image/png": "[encoded data removed]",
            "text/plain": [
              "<Figure size 720x504 with 1 Axes>"
            ]
          },
          "metadata": {
            "tags": [],
            "needs_background": "light"
          }
        }
      ]
    },
    {
      "cell_type": "code",
      "metadata": {
        "colab": {
          "base_uri": "https://localhost:8080/"
        },
        "id": "XoQSnvYobgQ9",
        "outputId": "fedd8df4-ead0-43ce-fd67-017b518f9e04"
      },
      "source": [
        "y_pred == y_pred_saved_model"
      ],
      "execution_count": 56,
      "outputs": [
        {
          "output_type": "execute_result",
          "data": {
            "text/plain": [
              "array([[ True],\n",
              "       [ True],\n",
              "       [ True],\n",
              "       [ True],\n",
              "       [ True],\n",
              "       [ True],\n",
              "       [ True],\n",
              "       [ True],\n",
              "       [ True],\n",
              "       [ True]])"
            ]
          },
          "metadata": {
            "tags": []
          },
          "execution_count": 56
        }
      ]
    },
    {
      "cell_type": "code",
      "metadata": {
        "colab": {
          "base_uri": "https://localhost:8080/"
        },
        "id": "cXs5Aa4kcCE9",
        "outputId": "b9d67b48-a401-4fb5-bf6f-5ad223bf3f13"
      },
      "source": [
        "# Load in hdf5 format model\n",
        "loaded_h5_model = tf.keras.models.load_model('best_model_hdf5.h5')\n",
        "loaded_saved_model.summary()"
      ],
      "execution_count": 57,
      "outputs": [
        {
          "output_type": "stream",
          "text": [
            "Model: \"first_model\"\n",
            "_________________________________________________________________\n",
            "Layer (type)                 Output Shape              Param #   \n",
            "=================================================================\n",
            "input_layer (Dense)          (None, 10)                20        \n",
            "_________________________________________________________________\n",
            "hidden_layer_1 (Dense)       (None, 10)                110       \n",
            "_________________________________________________________________\n",
            "output_layer (Dense)         (None, 1)                 11        \n",
            "=================================================================\n",
            "Total params: 141\n",
            "Trainable params: 141\n",
            "Non-trainable params: 0\n",
            "_________________________________________________________________\n"
          ],
          "name": "stdout"
        }
      ]
    },
    {
      "cell_type": "code",
      "metadata": {
        "colab": {
          "base_uri": "https://localhost:8080/",
          "height": 17
        },
        "id": "OJsjot5udKqW",
        "outputId": "c7a7947c-1bf2-400c-b1bc-8fd2e39c6876"
      },
      "source": [
        "# Download a file from google colab\n",
        "from google.colab import files\n",
        "files.download(\"/content/best_model_hdf5.h5\")"
      ],
      "execution_count": 58,
      "outputs": [
        {
          "output_type": "display_data",
          "data": {
            "application/javascript": [
              "\n",
              "    async function download(id, filename, size) {\n",
              "      if (!google.colab.kernel.accessAllowed) {\n",
              "        return;\n",
              "      }\n",
              "      const div = document.createElement('div');\n",
              "      const label = document.createElement('label');\n",
              "      label.textContent = `Downloading \"${filename}\": `;\n",
              "      div.appendChild(label);\n",
              "      const progress = document.createElement('progress');\n",
              "      progress.max = size;\n",
              "      div.appendChild(progress);\n",
              "      document.body.appendChild(div);\n",
              "\n",
              "      const buffers = [];\n",
              "      let downloaded = 0;\n",
              "\n",
              "      const channel = await google.colab.kernel.comms.open(id);\n",
              "      // Send a message to notify the kernel that we're ready.\n",
              "      channel.send({})\n",
              "\n",
              "      for await (const message of channel.messages) {\n",
              "        // Send a message to notify the kernel that we're ready.\n",
              "        channel.send({})\n",
              "        if (message.buffers) {\n",
              "          for (const buffer of message.buffers) {\n",
              "            buffers.push(buffer);\n",
              "            downloaded += buffer.byteLength;\n",
              "            progress.value = downloaded;\n",
              "          }\n",
              "        }\n",
              "      }\n",
              "      const blob = new Blob(buffers, {type: 'application/binary'});\n",
              "      const a = document.createElement('a');\n",
              "      a.href = window.URL.createObjectURL(blob);\n",
              "      a.download = filename;\n",
              "      div.appendChild(a);\n",
              "      a.click();\n",
              "      div.remove();\n",
              "    }\n",
              "  "
            ],
            "text/plain": [
              "<IPython.core.display.Javascript object>"
            ]
          },
          "metadata": {
            "tags": []
          }
        },
        {
          "output_type": "display_data",
          "data": {
            "application/javascript": [
              "download(\"download_a7d1721a-4929-45c4-a4c6-d180d025e855\", \"best_model_hdf5.h5\", 32552)"
            ],
            "text/plain": [
              "<IPython.core.display.Javascript object>"
            ]
          },
          "metadata": {
            "tags": []
          }
        }
      ]
    },
    {
      "cell_type": "code",
      "metadata": {
        "id": "z8eWZa2Og2B-"
      },
      "source": [
        ""
      ],
      "execution_count": null,
      "outputs": []
    }
  ]
}